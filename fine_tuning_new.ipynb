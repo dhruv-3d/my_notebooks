{
  "nbformat": 4,
  "nbformat_minor": 0,
  "metadata": {
    "colab": {
      "provenance": [],
      "authorship_tag": "ABX9TyMlikDkRqkLwxHY+elam/7H",
      "include_colab_link": true
    },
    "kernelspec": {
      "name": "python3",
      "display_name": "Python 3"
    },
    "language_info": {
      "name": "python"
    }
  },
  "cells": [
    {
      "cell_type": "markdown",
      "metadata": {
        "id": "view-in-github",
        "colab_type": "text"
      },
      "source": [
        "<a href=\"https://colab.research.google.com/github/dhruv-3d/my_notebooks/blob/main/fine_tuning_new.ipynb\" target=\"_parent\"><img src=\"https://colab.research.google.com/assets/colab-badge.svg\" alt=\"Open In Colab\"/></a>"
      ]
    },
    {
      "cell_type": "markdown",
      "source": [
        "### Trainer docs\n",
        "https://huggingface.co/docs/transformers/training\n",
        "\n",
        "\n",
        "### PEFT docs\n",
        "https://huggingface.co/docs/peft/quicktour\n",
        "\n",
        "\n",
        "### Trained model loading\n",
        "https://huggingface.co/docs/transformers/peft"
      ],
      "metadata": {
        "id": "bB9Mp4WU4MPi"
      }
    },
    {
      "cell_type": "code",
      "execution_count": null,
      "metadata": {
        "id": "sRU9ILUE4Bpi"
      },
      "outputs": [],
      "source": []
    }
  ]
}